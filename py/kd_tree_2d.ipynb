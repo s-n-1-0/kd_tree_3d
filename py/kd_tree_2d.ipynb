{
 "cells": [
  {
   "cell_type": "markdown",
   "id": "a2900303",
   "metadata": {},
   "source": [
    "# kd-tree探索法(2D)\n",
    "\n",
    "実装参考\n",
    "+ [C言語によるkd-treeの実装 Qiita](https://qiita.com/fj-th/items/1bb2dc39f3088549ad6e)  \n",
    "kd-tree探索法が何かも↑の記事(とリンク先)を読めばわかると思う\n",
    "\n",
    "\n",
    "※後からC#に書き換えるのであまりPythonのライブラリに依存しないようにしたい"
   ]
  },
  {
   "cell_type": "markdown",
   "id": "cc9d5b44",
   "metadata": {},
   "source": [
    "### ソート関数\n",
    "Python仕様(というよりnumpy仕様)に対応するためのコード"
   ]
  },
  {
   "cell_type": "code",
   "execution_count": null,
   "id": "c211d3a2",
   "metadata": {},
   "outputs": [],
   "source": [
    "import numpy as np\n",
    "import matplotlib.pyplot as plt\n",
    "\"\"\"\n",
    "特定列を基準にソート\n",
    "axis_xy : xなら0 yなら1\n",
    "\"\"\"\n",
    "def sortxy(arr:np.ndarray,axis_xy:int,offset:int = 1):\n",
    "    axis = axis_xy + offset # offset\n",
    "    return arr[np.argsort(arr[:,axis])]\n",
    "\n",
    "# test\n",
    "arr = np.array([[1000000,2,50],\n",
    "               [2000000,0,100],\n",
    "               [3000000,1,200]])\n",
    "r = sortxy(arr,0)"
   ]
  },
  {
   "cell_type": "markdown",
   "id": "f16e9e27",
   "metadata": {},
   "source": [
    "### メイン"
   ]
  },
  {
   "cell_type": "code",
   "execution_count": null,
   "id": "bcad19e4",
   "metadata": {},
   "outputs": [],
   "source": [
    "offset = 1\n",
    "x_col = 0 + offset\n",
    "y_col = 1 + offset\n",
    "class Tree:\n",
    "    def build(self,points):\n",
    "        return Node().set_node(points,len(points) - 1,0)\n",
    "class Node:\n",
    "    def set_node(self,points:np.ndarray,right:int,depth:int):\n",
    "        if right < 0:\n",
    "            return None\n",
    "        elif right == 0:\n",
    "            return self.set_leaf(points[right],depth)\n",
    "        \n",
    "        axis = depth % 2\n",
    "        sorted_points = sortxy(points[:right + 1],axis)\n",
    "        if axis == 0:\n",
    "            self.left_most = sorted_points[0][x_col]\n",
    "            self.right_most = sorted_points[right][x_col]\n",
    "        else:\n",
    "            self.bottom_most = sorted_points[0][y_col]\n",
    "            self.top_most = sorted_points[right][y_col]\n",
    "        median = int(right / 2)\n",
    "        self.border = (sorted_points[median][1:] + sorted_points[median+1][1:])/2.0\n",
    "        self.location = sorted_points[median]\n",
    "        self.depth = depth\n",
    "        self.right_child = Node().set_node(sorted_points[median\n",
    "                                                          + 1:],right -( median + 1),depth + 1)\n",
    "        self.left_child = Node().set_node(sorted_points,median,depth + 1)\n",
    "        \n",
    "        #ここから先は関連付け\n",
    "        if(axis == 0):\n",
    "            if(not(self.right_child is None) and not(self.left_child is None)):\n",
    "                self.top_most = self.right_child.top_most if self.right_child.top_most > self.left_child.top_most else self.left_child.top_most\n",
    "                self.bottom_most = self.right_child.bottom_most if self.right_child.bottom_most < self.left_child.bottom_most else self.left_child.bottom_most\n",
    "            elif not(self.right_child is None):\n",
    "                self.top_most = self.right_childi.top_most\n",
    "                self.bottom_most = self.right_child.bottom_most\n",
    "            elif not(self.left_child is None):\n",
    "                self.top_most = self.left_child.top_most\n",
    "                self.bottom_most = self.left_child.bottom_most\n",
    "            else:\n",
    "                self.top_most = self.location[y_col]\n",
    "                self.bottom_most = self.location[y_col]\n",
    "        else:\n",
    "            if(not(self.right_child is None) and not(self.left_child is None)):\n",
    "                self.right_most = self.right_child.right_most if self.right_child.right_most > self.left_child.right_most else self.left_child.right_most\n",
    "                self.left_most = self.right_child.left_most if self.right_child.left_most < self.left_child.left_most else self.left_child.left_most\n",
    "            elif not(self.right_child is None):\n",
    "                self.right_most = self.right_child.right_most\n",
    "                self.left_most = self.right_child.left_most\n",
    "            elif not(self.left_child is None):\n",
    "                self.right_most = self.left_child.right_most\n",
    "                self.left_most = self.left_child.left_most\n",
    "            else:\n",
    "                self.right_most = self.location[x_col]\n",
    "                self.left_most = self.location[x_col]\n",
    "                \n",
    "        return self\n",
    "    def set_leaf(self,location:np.ndarray,depth:int):\n",
    "        self.location = location\n",
    "        self.left_child = None\n",
    "        self.right_child = None\n",
    "        self.depth = depth\n",
    "        self.left_most = location[x_col]\n",
    "        self.right_most = location[x_col]\n",
    "        self.top_most = location[y_col]\n",
    "        self.bottom_most = location[y_col]\n",
    "        return self"
   ]
  },
  {
   "cell_type": "code",
   "execution_count": null,
   "id": "59e88172",
   "metadata": {},
   "outputs": [],
   "source": [
    "points = [[1,2],\n",
    "          [2,4],\n",
    "          [5,6],\n",
    "          [7,8],\n",
    "          [3,10],\n",
    "          [11,11],\n",
    "         [10,10],\n",
    "         [0,8]]\n",
    "points = np.array([[i,*p] for i, p in enumerate(points)])\n",
    "node = Tree().build(points)\n",
    "plt.scatter(points[:,1],points[:,2])"
   ]
  },
  {
   "cell_type": "code",
   "execution_count": null,
   "id": "2f907d1b",
   "metadata": {},
   "outputs": [],
   "source": [
    "def report_subtree(node:Node,parent:Node=None,parent_border_axis:tuple = None,draw_border:tuple = None):\n",
    "    \"\"\"\n",
    "    draw_border:tuple = (max_x,min_x,max_y,min_y)\n",
    "    \"\"\"\n",
    "    if node.left_child is None and node.right_child is None:\n",
    "        return [node.location]\n",
    "    pba = parent_border_axis\n",
    "    if not (draw_border is None) :\n",
    "        xmax,xmin,ymax,ymin = draw_border\n",
    "        s = node.border.copy()\n",
    "        e = [0,0]\n",
    "        if parent is None:\n",
    "            s[1] = ymax\n",
    "            e = np.array([s[0],ymin])\n",
    "            pba = (s[0],None)\n",
    "        else:\n",
    "            if pba[0] is None:\n",
    "                y = ymax if(pba[1] < s[1]) else ymin\n",
    "                s[1] = pba[1]\n",
    "                e = np.array([s[0],y])\n",
    "                pba = (s[0],None)\n",
    "            else: #つまり親がy軸と並行\n",
    "                x = xmax if(pba[0] < s[0]) else xmin\n",
    "                s[0] = pba[0]\n",
    "                e = np.array([x,s[1]])\n",
    "                pba = (None,s[1])\n",
    "        plt.plot([s[0],e[0]],[s[1],e[1]])\n",
    "    arr = []\n",
    "    if not (node.left_child is None):\n",
    "        arr += report_subtree(node.left_child,node,pba,draw_border)\n",
    "    if not (node.right_child is None):\n",
    "        arr += report_subtree(node.right_child,node,pba,draw_border)\n",
    "    return arr\n",
    "\n",
    "# test\n",
    "points\n",
    "plt.scatter(points[:,1],points[:,2])\n",
    "report_subtree(node,draw_border=(points[:,1].max(),points[:,1].min(),points[:,2].max(),points[:,2].min()))\n",
    "plt.show()"
   ]
  },
  {
   "cell_type": "markdown",
   "id": "e8f74df9",
   "metadata": {},
   "source": [
    "### nodeチェック\n",
    "> regionノードから始まるsubtreeの要素が指定領域にすっぽり収まっているか否かを返す。  \n",
    "> 各ノードに、自分以下の子の最大、最小値をもたせているので、それを参照するだけで判定できる。\n",
    "\n",
    "実装参考のis_contained関数より引用"
   ]
  },
  {
   "cell_type": "code",
   "execution_count": null,
   "id": "2d2e1506",
   "metadata": {},
   "outputs": [],
   "source": [
    "g = [1,2]\n",
    "_ ,z = g\n",
    "z"
   ]
  },
  {
   "cell_type": "code",
   "execution_count": null,
   "id": "a527fd7a",
   "metadata": {},
   "outputs": [],
   "source": []
  }
 ],
 "metadata": {
  "kernelspec": {
   "display_name": "Python 3 (ipykernel)",
   "language": "python",
   "name": "python3"
  },
  "language_info": {
   "codemirror_mode": {
    "name": "ipython",
    "version": 3
   },
   "file_extension": ".py",
   "mimetype": "text/x-python",
   "name": "python",
   "nbconvert_exporter": "python",
   "pygments_lexer": "ipython3",
   "version": "3.9.7"
  }
 },
 "nbformat": 4,
 "nbformat_minor": 5
}
